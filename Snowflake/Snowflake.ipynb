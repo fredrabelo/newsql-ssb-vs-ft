{
  "nbformat": 4,
  "nbformat_minor": 0,
  "metadata": {
    "colab": {
      "provenance": []
    },
    "kernelspec": {
      "name": "python3",
      "display_name": "Python 3"
    },
    "language_info": {
      "name": "python"
    }
  },
  "cells": [
    {
      "cell_type": "code",
      "execution_count": null,
      "metadata": {
        "colab": {
          "base_uri": "https://localhost:8080/"
        },
        "id": "CcYRRwca3k6F",
        "outputId": "b7471ab3-aabd-4568-d478-b83ddb4325fc"
      },
      "outputs": [
        {
          "output_type": "stream",
          "name": "stdout",
          "text": [
            "Collecting snowflake-connector-python\n",
            "  Downloading snowflake_connector_python-3.7.1-cp310-cp310-manylinux_2_17_x86_64.manylinux2014_x86_64.whl (2.6 MB)\n",
            "\u001b[2K     \u001b[90m━━━━━━━━━━━━━━━━━━━━━━━━━━━━━━━━━━━━━━━━\u001b[0m \u001b[32m2.6/2.6 MB\u001b[0m \u001b[31m22.6 MB/s\u001b[0m eta \u001b[36m0:00:00\u001b[0m\n",
            "\u001b[?25hCollecting asn1crypto<2.0.0,>0.24.0 (from snowflake-connector-python)\n",
            "  Downloading asn1crypto-1.5.1-py2.py3-none-any.whl (105 kB)\n",
            "\u001b[2K     \u001b[90m━━━━━━━━━━━━━━━━━━━━━━━━━━━━━━━━━━━━━━━━\u001b[0m \u001b[32m105.0/105.0 kB\u001b[0m \u001b[31m14.4 MB/s\u001b[0m eta \u001b[36m0:00:00\u001b[0m\n",
            "\u001b[?25hRequirement already satisfied: cffi<2.0.0,>=1.9 in /usr/local/lib/python3.10/dist-packages (from snowflake-connector-python) (1.16.0)\n",
            "Requirement already satisfied: cryptography<43.0.0,>=3.1.0 in /usr/local/lib/python3.10/dist-packages (from snowflake-connector-python) (42.0.3)\n",
            "Requirement already satisfied: pyOpenSSL<25.0.0,>=16.2.0 in /usr/local/lib/python3.10/dist-packages (from snowflake-connector-python) (24.0.0)\n",
            "Requirement already satisfied: pyjwt<3.0.0 in /usr/lib/python3/dist-packages (from snowflake-connector-python) (2.3.0)\n",
            "Requirement already satisfied: pytz in /usr/local/lib/python3.10/dist-packages (from snowflake-connector-python) (2023.4)\n",
            "Requirement already satisfied: requests<3.0.0 in /usr/local/lib/python3.10/dist-packages (from snowflake-connector-python) (2.31.0)\n",
            "Requirement already satisfied: packaging in /usr/local/lib/python3.10/dist-packages (from snowflake-connector-python) (23.2)\n",
            "Requirement already satisfied: charset-normalizer<4,>=2 in /usr/local/lib/python3.10/dist-packages (from snowflake-connector-python) (3.3.2)\n",
            "Requirement already satisfied: idna<4,>=2.5 in /usr/local/lib/python3.10/dist-packages (from snowflake-connector-python) (3.6)\n",
            "Requirement already satisfied: certifi>=2017.4.17 in /usr/local/lib/python3.10/dist-packages (from snowflake-connector-python) (2024.2.2)\n",
            "Requirement already satisfied: typing-extensions<5,>=4.3 in /usr/local/lib/python3.10/dist-packages (from snowflake-connector-python) (4.9.0)\n",
            "Requirement already satisfied: filelock<4,>=3.5 in /usr/local/lib/python3.10/dist-packages (from snowflake-connector-python) (3.13.1)\n",
            "Requirement already satisfied: sortedcontainers>=2.4.0 in /usr/local/lib/python3.10/dist-packages (from snowflake-connector-python) (2.4.0)\n",
            "Collecting platformdirs<4.0.0,>=2.6.0 (from snowflake-connector-python)\n",
            "  Downloading platformdirs-3.11.0-py3-none-any.whl (17 kB)\n",
            "Collecting tomlkit (from snowflake-connector-python)\n",
            "  Downloading tomlkit-0.12.3-py3-none-any.whl (37 kB)\n",
            "Requirement already satisfied: pycparser in /usr/local/lib/python3.10/dist-packages (from cffi<2.0.0,>=1.9->snowflake-connector-python) (2.21)\n",
            "Requirement already satisfied: urllib3<3,>=1.21.1 in /usr/local/lib/python3.10/dist-packages (from requests<3.0.0->snowflake-connector-python) (2.0.7)\n",
            "Installing collected packages: asn1crypto, tomlkit, platformdirs, snowflake-connector-python\n",
            "  Attempting uninstall: platformdirs\n",
            "    Found existing installation: platformdirs 4.2.0\n",
            "    Uninstalling platformdirs-4.2.0:\n",
            "      Successfully uninstalled platformdirs-4.2.0\n",
            "Successfully installed asn1crypto-1.5.1 platformdirs-3.11.0 snowflake-connector-python-3.7.1 tomlkit-0.12.3\n"
          ]
        }
      ],
      "source": [
        "!pip install snowflake-connector-python\n"
      ]
    },
    {
      "cell_type": "code",
      "source": [
        "import snowflake.connector\n",
        "import pandas as pd\n",
        "import numpy as np\n",
        "from datetime import datetime\n",
        "import os, sys, json"
      ],
      "metadata": {
        "id": "OxyJZgtX3tvP"
      },
      "execution_count": null,
      "outputs": []
    },
    {
      "cell_type": "code",
      "source": [
        "# Configuração dos parâmetros de conexão\n",
        "account = 'vajdfge-ir30409'\n",
        "\n",
        "\n",
        "user = 'LLUKAZ'\n",
        "password = 'Luc421996'\n",
        "warehouse = 'COMPUTE_WH'\n",
        "database = 'sf100'\n",
        "schema = 'PUBLIC'\n",
        "\n",
        "# Conecta ao Snowflake\n",
        "con = snowflake.connector.connect(\n",
        "    user=user,\n",
        "    password=password,\n",
        "    account=account,\n",
        "    warehouse=warehouse,\n",
        "    database=database,\n",
        "    schema=schema\n",
        ")\n"
      ],
      "metadata": {
        "id": "ZIGtBnqb35q8"
      },
      "execution_count": null,
      "outputs": []
    },
    {
      "cell_type": "code",
      "source": [
        "queries =  [\n",
        "        \"select sum(TO_DOUBLE(lo_extendedprice*lo_discount)) as revenue from lineorder, dwdate where d_yearmonthnum = 199401 and lo_orderdate = d_datekey and lo_discount between 4 and 6 and lo_quantity between 26 and 35;\",\n",
        "        \"select sum(TO_DOUBLE(lo_extendedprice*lo_discount)) as revenue from lineorder, dwdate where d_year = 1993 and lo_orderdate = d_datekey and lo_discount between 1 and 3 and lo_quantity < 25;\",\n",
        "        \"select sum(TO_DOUBLE(lo_extendedprice*lo_discount)) as revenue from lineorder, dwdate where d_weeknuminyear = 6 and lo_orderdate = d_datekey and d_year = 1994 and lo_discount between 5 and 7 and lo_quantity between 26 and 35;\",\n",
        "        \"select sum(TO_DOUBLE(lo_revenue)), d_year, p_brand from lineorder, dwdate, part, supplier where p_category = 'MFGR#12' and lo_orderdate = d_datekey and lo_partkey = p_partkey and lo_suppkey = s_suppkey and s_region = 'AMERICA' group by d_year, p_brand order by d_year, p_brand;\",\n",
        "        \"select sum(TO_DOUBLE(lo_revenue)), d_year, p_brand from lineorder, dwdate, part, supplier where p_brand BETWEEN 'MFGR#2221' and  'MFGR#2228' and s_region = 'ASIA' and lo_orderdate = d_datekey and lo_partkey = p_partkey and lo_suppkey = s_suppkey group by d_year, p_brand order by d_year, p_brand;\",\n",
        "        \"select sum(TO_DOUBLE(lo_revenue)), d_year, p_brand from lineorder, dwdate, part, supplier where p_brand = 'MFGR#2221' and lo_orderdate = d_datekey and lo_partkey = p_partkey and lo_suppkey = s_suppkey and s_region = 'EUROPE' group by d_year, p_brand order by d_year, p_brand;\",\n",
        "        \"select c_nation, s_nation, d_year, sum(TO_DOUBLE(lo_revenue)) as revenue from customer, lineorder, supplier, dwdate where lo_custkey = c_custkey and lo_suppkey = s_suppkey and lo_orderdate = d_datekey and c_region = 'ASIA' and s_region = 'ASIA' and d_year >= 1992 and d_year <= 1997 group by c_nation, s_nation, d_year order by d_year asc, revenue desc;\",\n",
        "        \"select c_city, s_city, d_year, sum(TO_DOUBLE(lo_revenue)) as revenue from customer, lineorder, supplier, dwdate where c_nation = 'UNITED STATES' and lo_custkey = c_custkey and lo_suppkey = s_suppkey and lo_orderdate = d_datekey and s_nation = 'UNITED STATES' and d_year >= 1992 and d_year <= 1997 group by c_city, s_city, d_year order by d_year asc, revenue desc;\",\n",
        "        \"select c_city, s_city, d_year, sum(TO_DOUBLE(lo_revenue)) as revenue from customer, lineorder, supplier, dwdate where d_year >= 1992 and lo_custkey = c_custkey and lo_suppkey = s_suppkey and lo_orderdate = d_datekey and (c_city='UNITED KI1' or c_city='UNITED KI5') and (s_city='UNITED KI1' or s_city='UNITED KI5') and d_year <= 1997 group by c_city, s_city, d_year order by d_year asc, revenue desc;\",\n",
        "        \"select c_city, s_city, d_year, sum(TO_DOUBLE(lo_revenue)) as revenue from customer, lineorder, supplier, dwdate where d_yearmonth = 'Dec1997' and lo_custkey = c_custkey and lo_suppkey = s_suppkey and lo_orderdate = d_datekey and (c_city='UNITED KI1' or c_city='UNITED KI5') and (s_city='UNITED KI1' or s_city='UNITED KI5') group by c_city, s_city, d_year order by d_year asc, revenue desc;\",\n",
        "        \"select d_year, c_nation, sum(TO_DOUBLE(lo_revenue - lo_supplycost)) as profit from dwdate, customer, supplier, part, lineorder where lo_custkey = c_custkey  and lo_suppkey = s_suppkey  and lo_partkey = p_partkey  and lo_orderdate = d_datekey  and c_region = 'AMERICA'  and s_region = 'AMERICA'  and (p_mfgr = 'MFGR#1' or p_mfgr = 'MFGR#2') group by d_year, c_nation order by d_year, c_nation;\",\n",
        "        \"select d_year, s_nation, p_category, sum(TO_DOUBLE(lo_revenue - lo_supplycost)) as profit from dwdate, customer, supplier, part, lineorder where lo_custkey = c_custkey and lo_suppkey = s_suppkey and lo_partkey = p_partkey and lo_orderdate = d_datekey and c_region = 'AMERICA' and s_region = 'AMERICA' and (d_year = 1997 or d_year = 1998) and (p_mfgr = 'MFGR#1' or p_mfgr = 'MFGR#2') group by d_year, s_nation, p_category order by d_year, s_nation, p_category;\",\n",
        "        \"select d_year, s_city, p_brand, sum(TO_DOUBLE(lo_revenue - lo_supplycost)) as profit from dwdate, customer, supplier, part, lineorder where lo_custkey = c_custkey and lo_suppkey = s_suppkey and lo_partkey = p_partkey and lo_orderdate = d_datekey and c_region = 'AMERICA' and s_nation = 'UNITED STATES' and (d_year = 1997 or d_year = 1998) and p_category = 'MFGR#14' group by d_year, s_city, p_brand order by d_year, s_city, p_brand;\"\n",
        "        ]\n"
      ],
      "metadata": {
        "id": "KKP-BuSV5HRq"
      },
      "execution_count": null,
      "outputs": []
    },
    {
      "cell_type": "code",
      "source": [
        "queries_flat_table = [\n",
        "    \"select sum(lo_extendedprice*lo_discount) as revenue from lineorder_obt where d_order_yearmonthnum = 199401 and lo_discount between 4 and 6 and lo_quantity between 26 and 35;\",\n",
        "    \"select sum(lo_extendedprice*lo_discount) as revenue from lineorder_obt where d_order_year = 1993 and lo_discount between 1 and 3 and lo_quantity < 25;\",\n",
        "    \"select sum(lo_extendedprice*lo_discount) as revenue from lineorder_obt where d_order_weeknuminyear = 6 and d_order_year = 1994 and lo_discount between 5 and 7 and lo_quantity between 26 and 35;\",\n",
        "    \"select sum(lo_revenue), d_order_year, p_brand from lineorder_obt where p_category = 'MFGR#12' and s_region = 'AMERICA' group by d_order_year, p_brand order by d_order_year, p_brand;\",\n",
        "    \"select sum(lo_revenue), d_order_year, p_brand from lineorder_obt where p_brand between 'MFGR#2221' and 'MFGR#2228' and s_region = 'ASIA' group by d_order_year, p_brand order by d_order_year, p_brand;\",\n",
        "    \"select sum(lo_revenue), d_order_year, p_brand from lineorder_obt where p_brand = 'MFGR#2221' and s_region = 'EUROPE' group by d_order_year, p_brand order by d_order_year, p_brand;\",\n",
        "    \"select c_nation, s_nation, d_order_year, sum(lo_revenue) as revenue from lineorder_obt where c_region = 'ASIA' and s_region = 'ASIA' and d_order_year >= 1992 and d_order_year <= 1997 group by c_nation, s_nation, d_order_year order by d_order_year asc, revenue desc;\",\n",
        "    \"select c_city, s_city, d_order_year, sum(lo_revenue) as revenue from lineorder_obt where c_nation = 'UNITED STATES' and s_nation = 'UNITED STATES' and d_order_year >= 1992 and d_order_year <= 1997 group by c_city, s_city, d_order_year order by d_order_year asc, revenue desc;\",\n",
        "    \"select c_city, s_city, d_order_year, sum(lo_revenue) as revenue from lineorder_obt where d_order_year >= 1992 and (c_city='UNITED KI1' or c_city='UNITED KI5') and (s_city='UNITED KI1' or s_city='UNITED KI5') and d_order_year <= 1997 group by c_city, s_city, d_order_year order by d_order_year asc, revenue desc;\",\n",
        "    \"select c_city, s_city, d_order_year, sum(lo_revenue) as revenue from lineorder_obt where d_order_yearmonth = 'Dec1997' and (c_city='UNITED KI1' or c_city='UNITED KI5') and (s_city='UNITED KI1' or s_city='UNITED KI5') group by c_city, s_city, d_order_year order by d_order_year asc, revenue desc;\",\n",
        "    \"select d_order_year, c_nation, sum(lo_revenue - lo_supplycost) as profit from lineorder_obt where c_region = 'AMERICA'  and s_region = 'AMERICA'  and (p_mfgr = 'MFGR#1' or p_mfgr = 'MFGR#2') group by d_order_year, c_nation order by d_order_year, c_nation;\",\n",
        "    \"select d_order_year, s_nation, p_category, sum(lo_revenue - lo_supplycost) as profit from lineorder_obt where c_region = 'AMERICA' and s_region = 'AMERICA' and (d_order_year = 1997 or d_order_year = 1998) and (p_mfgr = 'MFGR#1' or p_mfgr = 'MFGR#2') group by d_order_year, s_nation, p_category order by d_order_year, s_nation, p_category;\",\n",
        "    \"select d_order_year, s_city, p_brand, sum(lo_revenue - lo_supplycost) as profit from lineorder_obt where c_region = 'AMERICA' and s_nation = 'UNITED STATES' and (d_order_year = 1997 or d_order_year = 1998) and p_category = 'MFGR#14' group by d_order_year, s_city, p_brand order by d_order_year, s_city, p_brand;\"\n",
        "]"
      ],
      "metadata": {
        "id": "UWrbrZ8QM0lI"
      },
      "execution_count": null,
      "outputs": []
    },
    {
      "cell_type": "code",
      "source": [
        "# Cria um cursor\n",
        "cursor = con.cursor()\n",
        "\n",
        "query = \"\"\"\n",
        "select /*+ NO_CACHE */ sum(TO_DOUBLE(lo_extendedprice*lo_discount)) as revenue from lineorder, dwdate where d_yearmonthnum = 199401 and lo_orderdate = d_datekey and lo_discount between 4 and 6 and lo_quantity between 26 and 35;\n",
        "\"\"\"\n",
        "\n",
        "# Executa uma consulta\n",
        "cursor.execute(query)\n",
        "\n",
        "# Obtém o ID da última consulta\n",
        "query_id = cursor.sfqid\n",
        "\n",
        "# Executa uma consulta para recuperar informações do Query Profile\n",
        "exec = cursor.execute(f\"\"\"\n",
        "select * from table(GET_QUERY_OPERATOR_STATS('{query_id}'));\n",
        "\"\"\")\n",
        "\n",
        "# Recupera os resultados\n",
        "query_history_results = exec.fetchall()\n",
        "\n",
        "# Exibe informações do Query Profile\n",
        "if query_history_results:\n",
        "    query_profile_json = query_history_results[0][1]  # Ajuste o índice conforme necessário\n",
        "    print(f\"Query Profile JSON:\\n{query_profile_json}\")\n",
        "\n",
        "# Fecha a conexão\n",
        "cursor.close()\n",
        "con.close()"
      ],
      "metadata": {
        "colab": {
          "base_uri": "https://localhost:8080/"
        },
        "id": "q2_qjCenAosY",
        "outputId": "2dcdada9-6e6c-4b87-c40d-8a58d5277a83"
      },
      "execution_count": null,
      "outputs": [
        {
          "output_type": "stream",
          "name": "stdout",
          "text": [
            "Query Profile JSON:\n",
            "1\n"
          ]
        }
      ]
    },
    {
      "cell_type": "code",
      "source": [
        "for i in range(len(queries_flat_table)):\n",
        "  arr_elapsed_time = []\n",
        "  arr_cpu_time = []\n",
        "  arr_bytes_scanned = []\n",
        "\n",
        "  arr_local_disk_io = []\n",
        "  arr_overall_percentage = []\n",
        "  arr_remote_disk_io = []\n",
        "  arr_output_rows = []\n",
        "  for _ in range(1,31):\n",
        "    # Cria um cursor\n",
        "    cursor = con.cursor()\n",
        "\n",
        "\n",
        "\n",
        "    cursor.execute(\"alter session set USE_CACHED_RESULT = FALSE;\")\n",
        "\n",
        "    start_time = datetime.utcnow()\n",
        "    consulta = f\"\"\"\n",
        "    /*+ NO_CACHED_RESULTS */\n",
        "    /*+ NO_QUERY_RESULT_REUSE */\n",
        "    {queries_flat_table[i]}\n",
        "    \"\"\"\n",
        "\n",
        "\n",
        "\n",
        "    # Executa uma consulta\n",
        "    cursor.execute(consulta)\n",
        "\n",
        "    end_time = datetime.utcnow()\n",
        "\n",
        "    # Obtém o ID da última consulta\n",
        "    query_id = cursor.sfqid\n",
        "\n",
        "\n",
        "    # Calcula o tempo decorrido\n",
        "    elapsed_time = (end_time - start_time).total_seconds()\n",
        "\n",
        "    arr_elapsed_time.append(elapsed_time*1000)\n",
        "\n",
        "    #print(f\"Elapsed Time (seconds): {elapsed_time}\")\n",
        "\n",
        "\n",
        "\n",
        "    query = f\"select * from table(GET_QUERY_OPERATOR_STATS('{query_id}'))\"\n",
        "    results = cursor.execute(query).fetchall()\n",
        "    for row in results:\n",
        "      nodeId = str(row[2])\n",
        "      parentId = row[3]\n",
        "      step = str(row[4])\n",
        "      linha_6 = str(row[6])\n",
        "      linha_5 = str(row[5])\n",
        "\n",
        "\n",
        "\n",
        "    dictionary = json.loads(str(row[6]))\n",
        "    objeto = json.loads(str(row[5]))\n",
        "\n",
        "    #arr_cpu_time.append(round(float(dictionary['processing'])*1000, 3))\n",
        "    arr_bytes_scanned.append(objeto['io']['bytes_scanned'])\n",
        "    #arr_local_disk_io.append(dictionary['local_disk_io'])\n",
        "    arr_overall_percentage.append(dictionary['overall_percentage'])\n",
        "    #arr_remote_disk_io.append(dictionary['remote_disk_io'])\n",
        "    arr_output_rows.append(objeto['output_rows'])\n",
        "\n",
        "    df = pd.DataFrame()\n",
        "\n",
        "    lista_de_tuplas = list(zip(arr_elapsed_time, arr_bytes_scanned, arr_overall_percentage, arr_output_rows))\n",
        "    df = pd.DataFrame(\n",
        "      lista_de_tuplas,\n",
        "      columns=['elapsed_time_ms', 'bytes_scanned', 'overall_percentage', 'output_rows']\n",
        "    )\n",
        "\n",
        "    df.to_csv('sf100_small_4nos_flat_query_'+str(i)+'.csv')\n"
      ],
      "metadata": {
        "id": "UuC3srISCGEM"
      },
      "execution_count": null,
      "outputs": []
    },
    {
      "cell_type": "markdown",
      "source": [
        "https://github.com/cristiscu/custom-query-profiler/blob/master/custom-query-profiler.py"
      ],
      "metadata": {
        "id": "J2UAuoOLQioY"
      }
    }
  ]
}